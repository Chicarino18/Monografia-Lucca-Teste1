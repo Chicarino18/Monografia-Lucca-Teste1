{
  "nbformat": 4,
  "nbformat_minor": 0,
  "metadata": {
    "colab": {
      "provenance": [],
      "authorship_tag": "ABX9TyMPLVUjCmTeFKtcLH9QFBFD",
      "include_colab_link": true
    },
    "kernelspec": {
      "name": "python3",
      "display_name": "Python 3"
    },
    "language_info": {
      "name": "python"
    }
  },
  "cells": [
    {
      "cell_type": "markdown",
      "metadata": {
        "id": "view-in-github",
        "colab_type": "text"
      },
      "source": [
        "<a href=\"https://colab.research.google.com/github/Chicarino18/Monografia-Lucca-Teste1/blob/main/Pense_em_python_Cap_13.ipynb\" target=\"_parent\"><img src=\"https://colab.research.google.com/assets/colab-badge.svg\" alt=\"Open In Colab\"/></a>"
      ]
    },
    {
      "cell_type": "code",
      "execution_count": null,
      "metadata": {
        "colab": {
          "base_uri": "https://localhost:8080/",
          "height": 35
        },
        "id": "wYEUE1gH-WKp",
        "outputId": "f3691dc3-d4fa-410e-964e-0f297f0173f7"
      },
      "outputs": [
        {
          "output_type": "execute_result",
          "data": {
            "text/plain": [
              "' \\t\\n\\r\\x0b\\x0c'"
            ],
            "application/vnd.google.colaboratory.intrinsic+json": {
              "type": "string"
            }
          },
          "metadata": {},
          "execution_count": 49
        }
      ],
      "source": [
        "import string\n",
        "string.punctuation\n",
        "string.whitespace"
      ]
    },
    {
      "cell_type": "code",
      "source": [
        "print('primeiro\\tsegundo') #coloca um espaço de tamanho tab \\t entre primeiro e segundo\n",
        "print('primeiro\\nsegundo') # faz com que após a palavra 'primeiro', deve-se iniciar uma nova linha para escrever 'segundo'\n",
        "print('primeiro\\rsegundo')"
      ],
      "metadata": {
        "colab": {
          "base_uri": "https://localhost:8080/"
        },
        "id": "0Alx48yO_bQb",
        "outputId": "57adf915-50a9-4121-de17-e5fef47ffb39"
      },
      "execution_count": null,
      "outputs": [
        {
          "output_type": "stream",
          "name": "stdout",
          "text": [
            "primeiro\tsegundo\n",
            "primeiro\n",
            "segundo\n",
            "primeiro\rsegundo\n"
          ]
        }
      ]
    },
    {
      "cell_type": "code",
      "source": [
        "import random\n",
        "for i in range(10):\n",
        "  x = random.random() # gera um número float entre 0,0 e 1,0 (1,0 nao está incluído, mas o 0,0 está)\n",
        "  print(x)\n",
        "\n",
        "b = random.randint(5, 10) # gera um número aleatório entre 5 e 10 (ambos os extremos estão inclusos)\n",
        "print(b)\n",
        "\n",
        "# para escolher aleatoriamente um elemento de uma sequência, usar módulo random.choice\n",
        "t = [1, 2, 3]\n",
        "random.choice(t) # escolhe um elemento aleatório da lista t usada como argumento\n"
      ],
      "metadata": {
        "id": "_1WNBJendEbU"
      },
      "execution_count": null,
      "outputs": []
    },
    {
      "cell_type": "code",
      "source": [
        "hist = {'a': 2, 'n' : 3, 's' :1}\n",
        "total = []\n",
        "for i in hist: # retorna só a chave\n",
        "  for b in range(hist[i]):\n",
        "    total.append(i)\n",
        "print(total)\n",
        "prob_a = 0\n",
        "prob_n = 0\n",
        "prob_s = 0\n",
        "for i in range(1000):\n",
        "  b = random.choice(total) # a cada loop ele vai escolher uma letra\n",
        "  if b == 'a':\n",
        "    global prob_a\n",
        "    prob_a += 1\n",
        "  elif b == 'n':\n",
        "    global prob_b\n",
        "    prob_n += 1\n",
        "  else:\n",
        "    global prob_s\n",
        "    prob_s += 1\n",
        "print(\"a probabilidade de sair 'a' é :\", prob_a/1000, \"e deveria ser 1/3 = 0.33\")\n",
        "print(\"a probabilidade de sair 'b' é :\", prob_n/1000, \"e deveria ser 1/2 = 0.5\")\n",
        "print(\"a probabilidade de sair 's' é :\", prob_s/1000, \"e deveria ser 1/6 = 0.167\")"
      ],
      "metadata": {
        "colab": {
          "base_uri": "https://localhost:8080/"
        },
        "id": "jZ3X82DLeaoD",
        "outputId": "95a34d58-dc72-4530-eb8d-a653d86e0baa"
      },
      "execution_count": null,
      "outputs": [
        {
          "output_type": "stream",
          "name": "stdout",
          "text": [
            "['a', 'a', 'n', 'n', 'n', 's']\n",
            "a probabilidade de sair 'a' é : 0.344 e deveria ser 1/3 = 0.33\n",
            "a probabilidade de sair 'b' é : 0.492 e deveria ser 1/2 = 0.5\n",
            "a probabilidade de sair 's' é : 0.164 e deveria ser 1/6 = 0.167\n"
          ]
        }
      ]
    },
    {
      "cell_type": "code",
      "source": [
        "# código do livro: um programa que lê um arquivo, o separa em linhas, e entao faz um histograma das palavras\n",
        "import string\n",
        "\n",
        "def process_file(nomedoarquivo):\n",
        "  hist = dict() # começa como um dicionário vazio que será incrementado\n",
        "  fp = open(nomedoarquivo)\n",
        "  for line in fp: # comando que faz com que o algoritmo percorra cada linha do arquivo aberto em fp\n",
        "    process_line(line, hist) # vai chamar uma próxima função, usando como argumento essa linha do loop + dicionário hist - será o mesmo dicionário para todas as linhas, e nao um dicionário diferente\n",
        "    return hist\n",
        "\n",
        "def process_line(line, hist):\n",
        "  line = line.replace('-', ' ') # esse comando vai pegar cada hífen da linha e trocá-lo por um whitespace, para poder usar o comando split depois\n",
        "  for word in line.split(): # ele usa o comando que irá criar uma lista a partir das palavras de cada linha, e em cada loop word = uma palavra da lista\n",
        "    word = word.strip(string.punctuation + string.whitespace) # string.strip(caracteres): remove os caracteres informados que estiverem no começo ou final da string.\n",
        "    # obs.: string.punctuation retorna !\"#$%&\\'()*+,-./:;<=>?@[\\\\]^_`{|}~\n",
        "    # obs.: string.whitespace retorna \\t\\n\\r\\x0b\\x0c\n",
        "    word = word.lower() # comando para converter todos os caracteres de word em minúsculo. Todos os comandos desse último loop servem para \"limpar\" a linha e deixar só as palavras\n",
        "    hist[word] = hist.get(word, 0) + 1 # vai adicionar cada palava do loop ao dicionário hist. Se a palavra ainda não estiver, ela será adicionada com valor 1, dado que o comando hist.get(word, 0) retorna\n",
        "    # 0 se a palavra não estiver. caso contrário, hist.get(word, 0) vai retornar o valor que já está atribuído à palvra, adicionando + 1 e mostrando que a palavra apareceu de novo. Com isso, não precisa\n",
        "    # fazer um loop de verificação se word in hist!!! uma linha só realiza toda a tarfea\n",
        "\n",
        "# obs.: para contar o número total de palavras, basta somar a frequência do dicionário, isto é, fazer um somatório dos valores do dicionário\n",
        "def total_word(hist):\n",
        "  return sum(hist.values())\n",
        "\n",
        "# obs.: para ver quantas palavras diferentes aparecem no texto, basta obter o número de chaves do dicionário, dado que cada chave é uma palavra diferente.\n",
        "# o número de chaves é igual ao comprimento de um dicionário\n",
        "def dif_words(hist):\n",
        "  return len(hist)\n",
        "\n"
      ],
      "metadata": {
        "id": "7Yosv0IriTBb"
      },
      "execution_count": null,
      "outputs": []
    },
    {
      "cell_type": "code",
      "source": [
        "dicio = {'a': 1, 'b' : 2, 'c' : 3}\n",
        "dicio.items()\n",
        "t = []\n",
        "for key, value in dicio.items(): # dicio.items retorna dict_items([('a', 1), ('b', 2), ('c', 3)]). então, fará uma associação de tuplas, onde key recebe a chave; value recebe o valor\n",
        "  t.append((value, key)) # o append só aceita 1 argumento. no caso, esse argumento único é uma tupla (value, key) INVERTENDO, ou seja, aparecendo a frequência primeiro\n",
        "t.sort(reverse=True) # o sort() ordena do menor pro maior. sort(reverse=True) vai fazer do maior para o menor\n",
        "print(t)"
      ],
      "metadata": {
        "colab": {
          "base_uri": "https://localhost:8080/"
        },
        "id": "C5TtqMcpyb7i",
        "outputId": "99a45a03-c6b6-4f1c-dc54-ede7a8b460ce"
      },
      "execution_count": null,
      "outputs": [
        {
          "output_type": "stream",
          "name": "stdout",
          "text": [
            "[(3, 'c'), (2, 'b'), (1, 'a')]\n"
          ]
        }
      ]
    },
    {
      "cell_type": "code",
      "source": [
        "# Funções com argumento opicional:\n",
        "# def função(arg1, arg2 = 10):\n",
        "  # nessa função, o arg1 é obrigatório, e o arg2 é opcional. se arg2 for omitido, recebe o valor padrão, neste caso = 10.\n",
        "  # função(arg1) -> arg2 = 10\n",
        "  # função(arg1, 20) -> arg2 = 20.\n",
        "a = [1, 2 , 3]\n",
        "a[len(a):] = [4] # len(a) = 3. então, a[len(a):] = a[3:] = [4]. basicamente, pega o elemento [4] e o adiciona ao final da lista a.\n",
        "squares = [x**2 for x in range(10)] # coloca a condicional dentro da própria lista, construindo a lista de forma mais concisa!!\n",
        "squares"
      ],
      "metadata": {
        "colab": {
          "base_uri": "https://localhost:8080/"
        },
        "id": "pMDlaZDh7PiR",
        "outputId": "2c8ef650-ce59-46a7-f596-4be4ab5c7165"
      },
      "execution_count": null,
      "outputs": [
        {
          "output_type": "execute_result",
          "data": {
            "text/plain": [
              "[0, 1, 4, 9, 16, 25, 36, 49, 64, 81]"
            ]
          },
          "metadata": {},
          "execution_count": 16
        }
      ]
    },
    {
      "cell_type": "code",
      "source": [
        "import math\n",
        "import numpy as np\n",
        "import scipy\n",
        "from scipy import stats\n",
        "import matplotlib.pyplot as plt\n",
        "observantin_x = np.linspace(-1, 1, 10) # gera 10 elementos de -1 a 1 igualmente espaçados [-1. -0.77777778 -0.55555556 -0.33333333 -0.11111111  0.11111111 0.33333333  0.55555556  0.77777778  1.]\n",
        "print(observantin_x)"
      ],
      "metadata": {
        "colab": {
          "base_uri": "https://localhost:8080/"
        },
        "id": "N0Z52dO13bxJ",
        "outputId": "5f6576ee-c595-4238-9316-a0fe2a190ebd"
      },
      "execution_count": null,
      "outputs": [
        {
          "output_type": "stream",
          "name": "stdout",
          "text": [
            "[-1.         -0.77777778 -0.55555556 -0.33333333 -0.11111111  0.11111111\n",
            "  0.33333333  0.55555556  0.77777778  1.        ]\n"
          ]
        }
      ]
    }
  ]
}